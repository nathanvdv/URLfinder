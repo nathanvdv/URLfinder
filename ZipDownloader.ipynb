{
 "cells": [
  {
   "cell_type": "markdown",
   "metadata": {},
   "source": [
    "# Download depencencies"
   ]
  },
  {
   "cell_type": "code",
   "execution_count": 1,
   "metadata": {},
   "outputs": [
    {
     "name": "stdout",
     "output_type": "stream",
     "text": [
      "Defaulting to user installation because normal site-packages is not writeable\n",
      "Note: you may need to restart the kernel to use updated packages.\n"
     ]
    }
   ],
   "source": [
    "%pip install -r requirements.txt"
   ]
  },
  {
   "cell_type": "markdown",
   "metadata": {},
   "source": [
    "# Automatic Zip Dowloader"
   ]
  },
  {
   "cell_type": "code",
   "execution_count": null,
   "metadata": {},
   "outputs": [],
   "source": [
    "from selenium import webdriver\n",
    "from webdriver_manager.chrome import ChromeDriverManager\n",
    "from selenium.webdriver.chrome.service import Service\n",
    "from selenium.webdriver.chrome.options import Options\n",
    "from selenium.webdriver.common.by import By\n",
    "from selenium.webdriver.support.ui import WebDriverWait\n",
    "from selenium.webdriver.support import expected_conditions as EC\n",
    "import os\n",
    "import time\n",
    "import re\n",
    "from datetime import datetime\n",
    "\n",
    "def setup_driver():\n",
    "    download_dir = os.path.join(os.getcwd(), \"Zip\")\n",
    "    if not os.path.exists(download_dir):\n",
    "        os.makedirs(download_dir)\n",
    "\n",
    "    chrome_options = Options()\n",
    "    prefs = {\"download.default_directory\": download_dir}\n",
    "    chrome_options.add_experimental_option(\"prefs\", prefs)\n",
    "\n",
    "    driver = webdriver.Chrome(service=Service(ChromeDriverManager().install()), options=chrome_options)\n",
    "    return driver, download_dir\n",
    "\n",
    "def wait_for_download_completion(directory, initial_files, timeout=1000):\n",
    "    end_time = time.time() + timeout\n",
    "    while time.time() < end_time:\n",
    "        current_files = set(os.listdir(directory))\n",
    "        new_files = current_files - initial_files\n",
    "        if new_files and all(not file.endswith('.crdownload') and not file.endswith('.tmp') for file in current_files):\n",
    "            return True\n",
    "        time.sleep(1)\n",
    "    return False\n",
    "\n",
    "def login(driver):\n",
    "    driver.get(\"https://kbopub.economie.fgov.be/kbo-open-data/login?lang=nl\")\n",
    "    driver.find_element(By.ID, \"j_username\").send_keys(\"#\") #fill in your username\n",
    "    driver.find_element(By.ID, \"j_password\").send_keys(\"#\") #fill in your password\n",
    "    driver.find_element(By.ID, \"proceed\").click()\n",
    "\n",
    "def navigate_and_download(driver, download_dir):\n",
    "    WebDriverWait(driver, 20).until(\n",
    "        EC.element_to_be_clickable((By.LINK_TEXT, \"Download een KBO Open Data Bestand\"))\n",
    "    ).click()\n",
    "\n",
    "    links = WebDriverWait(driver, 20).until(\n",
    "        EC.presence_of_all_elements_located((By.XPATH, '//a[contains(@href, \"_Full.zip\")]'))\n",
    "    )\n",
    "\n",
    "    file_dates = {}\n",
    "    for link in links:\n",
    "        href = link.get_attribute('href')\n",
    "        match = re.search(r'(\\d{4}_\\d{2})_Full\\.zip', href)\n",
    "        if match:\n",
    "            date_str = match.group(1)\n",
    "            date = datetime.strptime(date_str, '%Y_%m')\n",
    "            file_dates[date] = href\n",
    "\n",
    "    if file_dates:\n",
    "        latest_date = max(file_dates.keys())\n",
    "        latest_file_url = file_dates[latest_date]\n",
    "        driver.get(latest_file_url)  # This initiates the download\n",
    "\n",
    "if __name__ == \"__main__\":\n",
    "    driver, download_dir = setup_driver()\n",
    "    try:\n",
    "        initial_files = set(os.listdir(download_dir))\n",
    "        login(driver)\n",
    "        navigate_and_download(driver, download_dir)\n",
    "        \n",
    "        # Correctly calling wait_for_download_completion after navigate_and_download\n",
    "        if not wait_for_download_completion(download_dir, initial_files):\n",
    "            print(\"Download did not complete within the timeout period.\")\n",
    "    finally:\n",
    "        driver.quit()\n"
   ]
  }
 ],
 "metadata": {
  "kernelspec": {
   "display_name": "Python 3",
   "language": "python",
   "name": "python3"
  },
  "language_info": {
   "codemirror_mode": {
    "name": "ipython",
    "version": 3
   },
   "file_extension": ".py",
   "mimetype": "text/x-python",
   "name": "python",
   "nbconvert_exporter": "python",
   "pygments_lexer": "ipython3",
   "version": "3.12.2"
  }
 },
 "nbformat": 4,
 "nbformat_minor": 2
}
