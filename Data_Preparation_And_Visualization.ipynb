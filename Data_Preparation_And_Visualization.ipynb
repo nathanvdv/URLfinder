{
 "cells": [
  {
   "cell_type": "code",
   "execution_count": null,
   "metadata": {},
   "outputs": [],
   "source": [
    "%pip install -r requirements.txt"
   ]
  },
  {
   "cell_type": "code",
   "execution_count": null,
   "metadata": {},
   "outputs": [],
   "source": [
    "import Library.data_loader as data_loader\n",
    "import Library.data_filter as data_filter\n",
    "import Library.data_analysis as data_analysis\n",
    "import Library.data_saver as data_saver\n",
    "\n",
    "def main(parquet_directory):\n",
    "    # Load data\n",
    "    dataframes = data_loader.load_data(parquet_directory)\n",
    "\n",
    "    # Filter data\n",
    "    combined_df = data_filter.filter_data(dataframes)\n",
    "\n",
    "    # Analyze filtered data\n",
    "    data_analysis.analyze_data(combined_df)\n",
    "\n",
    "    # Save final results\n",
    "    data_saver.save_data(combined_df)\n",
    "\n",
    "if __name__ == \"__main__\":\n",
    "    parquet_directory = 'ExtractedFiles'\n",
    "    main(parquet_directory)"
   ]
  }
 ],
 "metadata": {
  "kernelspec": {
   "display_name": "URLfinder",
   "language": "python",
   "name": "python3"
  },
  "language_info": {
   "codemirror_mode": {
    "name": "ipython",
    "version": 3
   },
   "file_extension": ".py",
   "mimetype": "text/x-python",
   "name": "python",
   "nbconvert_exporter": "python",
   "pygments_lexer": "ipython3",
   "version": "3.12.0"
  }
 },
 "nbformat": 4,
 "nbformat_minor": 2
}
