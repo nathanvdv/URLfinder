{
 "cells": [
  {
   "cell_type": "code",
   "execution_count": null,
   "metadata": {},
   "outputs": [],
   "source": [
    "%pip install -r requirements.txt"
   ]
  },
  {
   "cell_type": "markdown",
   "metadata": {},
   "source": [
    "# Automatic transformer: ZIP to parquet files"
   ]
  },
  {
   "cell_type": "markdown",
   "metadata": {},
   "source": [
    "The last new ZIP folder will be transformed into csv and parquet files."
   ]
  },
  {
   "cell_type": "code",
   "execution_count": null,
   "metadata": {},
   "outputs": [],
   "source": [
    "import os\n",
    "from Library.file_management import find_latest_zip_file, get_last_processed_file, update_last_processed_file\n",
    "from Library.data_processing import extract_and_convert_to_parquet\n",
    "\n",
    "zip_directory = 'Zip'\n",
    "extracted_files_directory = 'ExtractedFiles'\n",
    "\n",
    "if not os.path.exists(extracted_files_directory):\n",
    "    os.makedirs(extracted_files_directory)\n",
    "\n",
    "latest_zip = find_latest_zip_file(zip_directory)\n",
    "last_processed = get_last_processed_file(extracted_files_directory)\n",
    "\n",
    "if latest_zip and latest_zip != last_processed:\n",
    "    print(f\"Processing new ZIP file: {latest_zip}\")\n",
    "    full_zip_path = os.path.join(zip_directory, latest_zip)\n",
    "    extract_and_convert_to_parquet(full_zip_path, extracted_files_directory)\n",
    "    update_last_processed_file(latest_zip, extracted_files_directory)\n",
    "    print(\"Update complete.\")\n",
    "else:\n",
    "    print(\"No new ZIP file needs processing.\")\n"
   ]
  }
 ],
 "metadata": {
  "kernelspec": {
   "display_name": "URLfinder",
   "language": "python",
   "name": "python3"
  },
  "language_info": {
   "codemirror_mode": {
    "name": "ipython",
    "version": 3
   },
   "file_extension": ".py",
   "mimetype": "text/x-python",
   "name": "python",
   "nbconvert_exporter": "python",
   "pygments_lexer": "ipython3",
   "version": "3.12.0"
  }
 },
 "nbformat": 4,
 "nbformat_minor": 2
}
