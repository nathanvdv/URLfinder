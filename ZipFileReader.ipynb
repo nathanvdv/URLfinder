{
 "cells": [
  {
   "cell_type": "markdown",
   "metadata": {},
   "source": [
    "## Install necessary packages"
   ]
  },
  {
   "cell_type": "code",
   "execution_count": null,
   "metadata": {},
   "outputs": [],
   "source": [
    "pip install -r requirements.txt\n"
   ]
  },
  {
   "cell_type": "markdown",
   "metadata": {},
   "source": [
    "## FileReader"
   ]
  },
  {
   "cell_type": "code",
   "execution_count": 2,
   "metadata": {},
   "outputs": [
    {
     "name": "stderr",
     "output_type": "stream",
     "text": [
      "<>:8: SyntaxWarning: invalid escape sequence '\\D'\n",
      "<>:8: SyntaxWarning: invalid escape sequence '\\D'\n",
      "C:\\Users\\natha\\AppData\\Local\\Temp\\ipykernel_11068\\2452108831.py:8: SyntaxWarning: invalid escape sequence '\\D'\n",
      "  sorted_files = sorted(zip_files, key=lambda x: [int(y) if y.isdigit() else y for y in re.split('(_|\\D)', x)])\n"
     ]
    },
    {
     "name": "stdout",
     "output_type": "stream",
     "text": [
      "Processing new ZIP file: KboOpenData_0121_2024_03_Full.zip\n"
     ]
    },
    {
     "name": "stderr",
     "output_type": "stream",
     "text": [
      "C:\\Users\\natha\\AppData\\Local\\Temp\\ipykernel_11068\\2452108831.py:23: DtypeWarning: Columns (2,3,4) have mixed types. Specify dtype option on import or set low_memory=False.\n",
      "  df = pd.read_csv(csv_file_path)\n"
     ]
    },
    {
     "name": "stdout",
     "output_type": "stream",
     "text": [
      "Update complete.\n"
     ]
    }
   ],
   "source": [
    "import zipfile\n",
    "import pandas as pd\n",
    "import os\n",
    "import re\n",
    "\n",
    "def find_latest_zip_file(directory):\n",
    "    zip_files = [f for f in os.listdir(directory) if f.endswith('.zip')]\n",
    "    sorted_files = sorted(zip_files, key=lambda x: [int(y) if y.isdigit() else y for y in re.split('(_|\\D)', x)])\n",
    "    if sorted_files:\n",
    "        return sorted_files[-1]  # Return the latest file\n",
    "    else:\n",
    "        return None\n",
    "\n",
    "def extract_and_convert_to_parquet(zip_filename, extraction_directory):\n",
    "    with zipfile.ZipFile(zip_filename, 'r') as zip_ref:\n",
    "        zip_ref.extractall(extraction_directory)\n",
    "\n",
    "    for root, dirs, files in os.walk(extraction_directory):\n",
    "        for file in files:\n",
    "            if file.endswith('.csv'):\n",
    "                csv_file_path = os.path.join(root, file)\n",
    "                parquet_file_path = os.path.join('ExtractedFiles', file.replace('.csv', '.parquet'))\n",
    "                df = pd.read_csv(csv_file_path)\n",
    "\n",
    "                # Convert problematic columns to string (or any other consistent type as needed)\n",
    "                if 'Zipcode' in df.columns:\n",
    "                    df['Zipcode'] = df['Zipcode'].astype(str)\n",
    "\n",
    "                # Save the DataFrame as a Parquet file\n",
    "                df.to_parquet(parquet_file_path)\n",
    "\n",
    "def update_last_processed_file(filename, directory):\n",
    "    with open(os.path.join(directory, 'last_processed.txt'), 'w') as f:\n",
    "        f.write(filename)\n",
    "\n",
    "def get_last_processed_file(directory):\n",
    "    try:\n",
    "        with open(os.path.join(directory, 'last_processed.txt'), 'r') as f:\n",
    "            return f.read().strip()\n",
    "    except FileNotFoundError:\n",
    "        return None\n",
    "\n",
    "# Main processing logic\n",
    "zip_directory = 'Zip'\n",
    "extracted_files_directory = 'ExtractedFiles'\n",
    "\n",
    "if not os.path.exists(extracted_files_directory):\n",
    "    os.makedirs(extracted_files_directory)\n",
    "\n",
    "latest_zip = find_latest_zip_file(zip_directory)\n",
    "last_processed = get_last_processed_file(extracted_files_directory)\n",
    "\n",
    "if latest_zip and latest_zip != last_processed:\n",
    "    print(f\"Processing new ZIP file: {latest_zip}\")\n",
    "    full_zip_path = os.path.join(zip_directory, latest_zip)\n",
    "    extract_and_convert_to_parquet(full_zip_path, extracted_files_directory)\n",
    "    update_last_processed_file(latest_zip, extracted_files_directory)\n",
    "    print(\"Update complete.\")\n",
    "else:\n",
    "    print(\"No new ZIP file needs processing.\")\n",
    "\n"
   ]
  },
  {
   "cell_type": "markdown",
   "metadata": {},
   "source": [
    "# Tester"
   ]
  }
 ],
 "metadata": {
  "kernelspec": {
   "display_name": "URLfinder",
   "language": "python",
   "name": "python3"
  },
  "language_info": {
   "codemirror_mode": {
    "name": "ipython",
    "version": 3
   },
   "file_extension": ".py",
   "mimetype": "text/x-python",
   "name": "python",
   "nbconvert_exporter": "python",
   "pygments_lexer": "ipython3",
   "version": "3.12.0"
  }
 },
 "nbformat": 4,
 "nbformat_minor": 2
}
